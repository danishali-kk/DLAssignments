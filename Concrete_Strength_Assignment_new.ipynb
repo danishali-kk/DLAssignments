{
  "nbformat": 4,
  "nbformat_minor": 0,
  "metadata": {
    "kernelspec": {
      "display_name": "Python 3",
      "language": "python",
      "name": "python3"
    },
    "language_info": {
      "codemirror_mode": {
        "name": "ipython",
        "version": 3
      },
      "file_extension": ".py",
      "mimetype": "text/x-python",
      "name": "python",
      "nbconvert_exporter": "python",
      "pygments_lexer": "ipython3",
      "version": "3.7.6"
    },
    "colab": {
      "name": "Concrete Strength Assignment_new.ipynb",
      "provenance": [],
      "collapsed_sections": []
    }
  },
  "cells": [
    {
      "cell_type": "code",
      "metadata": {
        "id": "Z1nzQWbFTO8W"
      },
      "source": [
        "import tensorflow as tf\n",
        "import pandas as pd\n",
        "import numpy as np\n",
        "from tensorflow.keras import layers, models, optimizers\n",
        "import matplotlib.pyplot as plt"
      ],
      "execution_count": 22,
      "outputs": []
    },
    {
      "cell_type": "code",
      "metadata": {
        "colab": {
          "base_uri": "https://localhost:8080/"
        },
        "id": "L9O7sqV5TTj1",
        "outputId": "e8bbc0c3-75c3-4b37-fa3f-e76ba59d1b23"
      },
      "source": [
        "from google.colab import drive\n",
        "drive.mount('/content/drive/')"
      ],
      "execution_count": 23,
      "outputs": [
        {
          "output_type": "stream",
          "text": [
            "Drive already mounted at /content/drive/; to attempt to forcibly remount, call drive.mount(\"/content/drive/\", force_remount=True).\n"
          ],
          "name": "stdout"
        }
      ]
    },
    {
      "cell_type": "code",
      "metadata": {
        "colab": {
          "base_uri": "https://localhost:8080/"
        },
        "id": "rnfAxjxfTTtb",
        "outputId": "467abf50-edc9-4177-9629-4403aafdce4b"
      },
      "source": [
        "cd /content/drive/MyDrive/"
      ],
      "execution_count": 24,
      "outputs": [
        {
          "output_type": "stream",
          "text": [
            "/content/drive/MyDrive\n"
          ],
          "name": "stdout"
        }
      ]
    },
    {
      "cell_type": "code",
      "metadata": {
        "id": "EvFMPk5XTT0e"
      },
      "source": [
        "df = pd.read_csv('./DeepLearningAssignment/compresive_strength_concrete.csv')"
      ],
      "execution_count": 25,
      "outputs": []
    },
    {
      "cell_type": "code",
      "metadata": {
        "colab": {
          "base_uri": "https://localhost:8080/",
          "height": 348
        },
        "id": "ZtMdDc4DTO8b",
        "outputId": "10b62bea-202d-4c95-9296-5d775d9577b1"
      },
      "source": [
        "df.describe()"
      ],
      "execution_count": 26,
      "outputs": [
        {
          "output_type": "execute_result",
          "data": {
            "text/html": [
              "<div>\n",
              "<style scoped>\n",
              "    .dataframe tbody tr th:only-of-type {\n",
              "        vertical-align: middle;\n",
              "    }\n",
              "\n",
              "    .dataframe tbody tr th {\n",
              "        vertical-align: top;\n",
              "    }\n",
              "\n",
              "    .dataframe thead th {\n",
              "        text-align: right;\n",
              "    }\n",
              "</style>\n",
              "<table border=\"1\" class=\"dataframe\">\n",
              "  <thead>\n",
              "    <tr style=\"text-align: right;\">\n",
              "      <th></th>\n",
              "      <th>Cement (component 1)(kg in a m^3 mixture)</th>\n",
              "      <th>Blast Furnace Slag (component 2)(kg in a m^3 mixture)</th>\n",
              "      <th>Fly Ash (component 3)(kg in a m^3 mixture)</th>\n",
              "      <th>Water  (component 4)(kg in a m^3 mixture)</th>\n",
              "      <th>Superplasticizer (component 5)(kg in a m^3 mixture)</th>\n",
              "      <th>Coarse Aggregate  (component 6)(kg in a m^3 mixture)</th>\n",
              "      <th>Fine Aggregate (component 7)(kg in a m^3 mixture)</th>\n",
              "      <th>Age (day)</th>\n",
              "      <th>Concrete compressive strength(MPa, megapascals)</th>\n",
              "    </tr>\n",
              "  </thead>\n",
              "  <tbody>\n",
              "    <tr>\n",
              "      <th>count</th>\n",
              "      <td>1030.000000</td>\n",
              "      <td>1030.000000</td>\n",
              "      <td>1030.000000</td>\n",
              "      <td>1030.000000</td>\n",
              "      <td>1030.000000</td>\n",
              "      <td>1030.000000</td>\n",
              "      <td>1030.000000</td>\n",
              "      <td>1030.000000</td>\n",
              "      <td>1030.000000</td>\n",
              "    </tr>\n",
              "    <tr>\n",
              "      <th>mean</th>\n",
              "      <td>281.167864</td>\n",
              "      <td>73.895825</td>\n",
              "      <td>54.188350</td>\n",
              "      <td>181.567282</td>\n",
              "      <td>6.204660</td>\n",
              "      <td>972.918932</td>\n",
              "      <td>773.580485</td>\n",
              "      <td>45.662136</td>\n",
              "      <td>35.817961</td>\n",
              "    </tr>\n",
              "    <tr>\n",
              "      <th>std</th>\n",
              "      <td>104.506364</td>\n",
              "      <td>86.279342</td>\n",
              "      <td>63.997004</td>\n",
              "      <td>21.354219</td>\n",
              "      <td>5.973841</td>\n",
              "      <td>77.753954</td>\n",
              "      <td>80.175980</td>\n",
              "      <td>63.169912</td>\n",
              "      <td>16.705742</td>\n",
              "    </tr>\n",
              "    <tr>\n",
              "      <th>min</th>\n",
              "      <td>102.000000</td>\n",
              "      <td>0.000000</td>\n",
              "      <td>0.000000</td>\n",
              "      <td>121.800000</td>\n",
              "      <td>0.000000</td>\n",
              "      <td>801.000000</td>\n",
              "      <td>594.000000</td>\n",
              "      <td>1.000000</td>\n",
              "      <td>2.330000</td>\n",
              "    </tr>\n",
              "    <tr>\n",
              "      <th>25%</th>\n",
              "      <td>192.375000</td>\n",
              "      <td>0.000000</td>\n",
              "      <td>0.000000</td>\n",
              "      <td>164.900000</td>\n",
              "      <td>0.000000</td>\n",
              "      <td>932.000000</td>\n",
              "      <td>730.950000</td>\n",
              "      <td>7.000000</td>\n",
              "      <td>23.710000</td>\n",
              "    </tr>\n",
              "    <tr>\n",
              "      <th>50%</th>\n",
              "      <td>272.900000</td>\n",
              "      <td>22.000000</td>\n",
              "      <td>0.000000</td>\n",
              "      <td>185.000000</td>\n",
              "      <td>6.400000</td>\n",
              "      <td>968.000000</td>\n",
              "      <td>779.500000</td>\n",
              "      <td>28.000000</td>\n",
              "      <td>34.445000</td>\n",
              "    </tr>\n",
              "    <tr>\n",
              "      <th>75%</th>\n",
              "      <td>350.000000</td>\n",
              "      <td>142.950000</td>\n",
              "      <td>118.300000</td>\n",
              "      <td>192.000000</td>\n",
              "      <td>10.200000</td>\n",
              "      <td>1029.400000</td>\n",
              "      <td>824.000000</td>\n",
              "      <td>56.000000</td>\n",
              "      <td>46.135000</td>\n",
              "    </tr>\n",
              "    <tr>\n",
              "      <th>max</th>\n",
              "      <td>540.000000</td>\n",
              "      <td>359.400000</td>\n",
              "      <td>200.100000</td>\n",
              "      <td>247.000000</td>\n",
              "      <td>32.200000</td>\n",
              "      <td>1145.000000</td>\n",
              "      <td>992.600000</td>\n",
              "      <td>365.000000</td>\n",
              "      <td>82.600000</td>\n",
              "    </tr>\n",
              "  </tbody>\n",
              "</table>\n",
              "</div>"
            ],
            "text/plain": [
              "       Cement (component 1)(kg in a m^3 mixture)  ...  Concrete compressive strength(MPa, megapascals) \n",
              "count                                1030.000000  ...                                       1030.000000\n",
              "mean                                  281.167864  ...                                         35.817961\n",
              "std                                   104.506364  ...                                         16.705742\n",
              "min                                   102.000000  ...                                          2.330000\n",
              "25%                                   192.375000  ...                                         23.710000\n",
              "50%                                   272.900000  ...                                         34.445000\n",
              "75%                                   350.000000  ...                                         46.135000\n",
              "max                                   540.000000  ...                                         82.600000\n",
              "\n",
              "[8 rows x 9 columns]"
            ]
          },
          "metadata": {
            "tags": []
          },
          "execution_count": 26
        }
      ]
    },
    {
      "cell_type": "code",
      "metadata": {
        "colab": {
          "base_uri": "https://localhost:8080/"
        },
        "id": "SaPYI17TTO8c",
        "outputId": "e2269ba9-db35-44d0-d607-72a999f82b92"
      },
      "source": [
        "df.isnull().any()"
      ],
      "execution_count": 27,
      "outputs": [
        {
          "output_type": "execute_result",
          "data": {
            "text/plain": [
              "Cement (component 1)(kg in a m^3 mixture)                False\n",
              "Blast Furnace Slag (component 2)(kg in a m^3 mixture)    False\n",
              "Fly Ash (component 3)(kg in a m^3 mixture)               False\n",
              "Water  (component 4)(kg in a m^3 mixture)                False\n",
              "Superplasticizer (component 5)(kg in a m^3 mixture)      False\n",
              "Coarse Aggregate  (component 6)(kg in a m^3 mixture)     False\n",
              "Fine Aggregate (component 7)(kg in a m^3 mixture)        False\n",
              "Age (day)                                                False\n",
              "Concrete compressive strength(MPa, megapascals)          False\n",
              "dtype: bool"
            ]
          },
          "metadata": {
            "tags": []
          },
          "execution_count": 27
        }
      ]
    },
    {
      "cell_type": "code",
      "metadata": {
        "colab": {
          "base_uri": "https://localhost:8080/",
          "height": 255
        },
        "id": "X8GT1-_lTO8d",
        "outputId": "5a077cf9-4212-45f3-dbee-1a289e507b1e"
      },
      "source": [
        "np.where(df.applymap(lambda x: x == ''))\n",
        "X_train = df.sample(frac = 0.7, random_state = 123)\n",
        "X_test = df.drop(X_train.index)\n",
        "X_train.head()"
      ],
      "execution_count": 28,
      "outputs": [
        {
          "output_type": "execute_result",
          "data": {
            "text/html": [
              "<div>\n",
              "<style scoped>\n",
              "    .dataframe tbody tr th:only-of-type {\n",
              "        vertical-align: middle;\n",
              "    }\n",
              "\n",
              "    .dataframe tbody tr th {\n",
              "        vertical-align: top;\n",
              "    }\n",
              "\n",
              "    .dataframe thead th {\n",
              "        text-align: right;\n",
              "    }\n",
              "</style>\n",
              "<table border=\"1\" class=\"dataframe\">\n",
              "  <thead>\n",
              "    <tr style=\"text-align: right;\">\n",
              "      <th></th>\n",
              "      <th>Cement (component 1)(kg in a m^3 mixture)</th>\n",
              "      <th>Blast Furnace Slag (component 2)(kg in a m^3 mixture)</th>\n",
              "      <th>Fly Ash (component 3)(kg in a m^3 mixture)</th>\n",
              "      <th>Water  (component 4)(kg in a m^3 mixture)</th>\n",
              "      <th>Superplasticizer (component 5)(kg in a m^3 mixture)</th>\n",
              "      <th>Coarse Aggregate  (component 6)(kg in a m^3 mixture)</th>\n",
              "      <th>Fine Aggregate (component 7)(kg in a m^3 mixture)</th>\n",
              "      <th>Age (day)</th>\n",
              "      <th>Concrete compressive strength(MPa, megapascals)</th>\n",
              "    </tr>\n",
              "  </thead>\n",
              "  <tbody>\n",
              "    <tr>\n",
              "      <th>134</th>\n",
              "      <td>362.6</td>\n",
              "      <td>189.0</td>\n",
              "      <td>0.0</td>\n",
              "      <td>164.9</td>\n",
              "      <td>11.6</td>\n",
              "      <td>944.7</td>\n",
              "      <td>755.8</td>\n",
              "      <td>28</td>\n",
              "      <td>71.30</td>\n",
              "    </tr>\n",
              "    <tr>\n",
              "      <th>13</th>\n",
              "      <td>190.0</td>\n",
              "      <td>190.0</td>\n",
              "      <td>0.0</td>\n",
              "      <td>228.0</td>\n",
              "      <td>0.0</td>\n",
              "      <td>932.0</td>\n",
              "      <td>670.0</td>\n",
              "      <td>90</td>\n",
              "      <td>42.33</td>\n",
              "    </tr>\n",
              "    <tr>\n",
              "      <th>996</th>\n",
              "      <td>152.6</td>\n",
              "      <td>238.7</td>\n",
              "      <td>0.0</td>\n",
              "      <td>200.0</td>\n",
              "      <td>6.3</td>\n",
              "      <td>1001.8</td>\n",
              "      <td>683.9</td>\n",
              "      <td>28</td>\n",
              "      <td>26.86</td>\n",
              "    </tr>\n",
              "    <tr>\n",
              "      <th>770</th>\n",
              "      <td>349.0</td>\n",
              "      <td>0.0</td>\n",
              "      <td>0.0</td>\n",
              "      <td>192.0</td>\n",
              "      <td>0.0</td>\n",
              "      <td>1047.0</td>\n",
              "      <td>806.0</td>\n",
              "      <td>3</td>\n",
              "      <td>14.99</td>\n",
              "    </tr>\n",
              "    <tr>\n",
              "      <th>937</th>\n",
              "      <td>313.3</td>\n",
              "      <td>0.0</td>\n",
              "      <td>113.0</td>\n",
              "      <td>178.5</td>\n",
              "      <td>8.0</td>\n",
              "      <td>1001.9</td>\n",
              "      <td>688.7</td>\n",
              "      <td>28</td>\n",
              "      <td>36.80</td>\n",
              "    </tr>\n",
              "  </tbody>\n",
              "</table>\n",
              "</div>"
            ],
            "text/plain": [
              "     Cement (component 1)(kg in a m^3 mixture)  ...  Concrete compressive strength(MPa, megapascals) \n",
              "134                                      362.6  ...                                             71.30\n",
              "13                                       190.0  ...                                             42.33\n",
              "996                                      152.6  ...                                             26.86\n",
              "770                                      349.0  ...                                             14.99\n",
              "937                                      313.3  ...                                             36.80\n",
              "\n",
              "[5 rows x 9 columns]"
            ]
          },
          "metadata": {
            "tags": []
          },
          "execution_count": 28
        }
      ]
    },
    {
      "cell_type": "code",
      "metadata": {
        "colab": {
          "base_uri": "https://localhost:8080/"
        },
        "id": "DNnJskpaTO8e",
        "outputId": "4ab23798-dc88-43b5-9942-05d38b37949c"
      },
      "source": [
        "Y_train = X_train.iloc[:,-1]\n",
        "X_train = X_train.iloc[:,0:-1]\n",
        "Y_test = X_test.iloc[:,-1]\n",
        "X_test = X_test.iloc[:,0:-1]\n",
        "X_mean = X_train.mean()\n",
        "X_train -= X_mean\n",
        "X_std = X_train.std()\n",
        "X_train /= X_std\n",
        "X_test -= X_mean\n",
        "X_test /= X_std\n",
        "Y_mean = Y_train.mean()\n",
        "Y_train -= Y_mean\n",
        "Y_std = Y_train.std()\n",
        "Y_train /= Y_std\n",
        "Y_test -= Y_mean\n",
        "Y_test /= Y_std\n",
        "X_train.dtypes"
      ],
      "execution_count": 29,
      "outputs": [
        {
          "output_type": "execute_result",
          "data": {
            "text/plain": [
              "Cement (component 1)(kg in a m^3 mixture)                float64\n",
              "Blast Furnace Slag (component 2)(kg in a m^3 mixture)    float64\n",
              "Fly Ash (component 3)(kg in a m^3 mixture)               float64\n",
              "Water  (component 4)(kg in a m^3 mixture)                float64\n",
              "Superplasticizer (component 5)(kg in a m^3 mixture)      float64\n",
              "Coarse Aggregate  (component 6)(kg in a m^3 mixture)     float64\n",
              "Fine Aggregate (component 7)(kg in a m^3 mixture)        float64\n",
              "Age (day)                                                float64\n",
              "dtype: object"
            ]
          },
          "metadata": {
            "tags": []
          },
          "execution_count": 29
        }
      ]
    },
    {
      "cell_type": "code",
      "metadata": {
        "id": "1WcE8ze2TO8e"
      },
      "source": [
        "X_train = X_train.to_numpy()\n",
        "Y_train = Y_train.to_numpy()\n",
        "X_test = X_test.to_numpy()\n",
        "Y_test = Y_test.to_numpy()"
      ],
      "execution_count": 30,
      "outputs": []
    },
    {
      "cell_type": "code",
      "metadata": {
        "id": "V2Y9--GdTO8f"
      },
      "source": [
        "network = models.Sequential()\n",
        "network.add(layers.Dense(128,activation=\"relu\",input_shape=(X_train.shape[1],)))\n",
        "network.add(layers.Dense(64,activation=\"relu\"))\n",
        "network.add(layers.Dense(32,activation=\"relu\"))\n",
        "network.add(layers.Dense(1))"
      ],
      "execution_count": 31,
      "outputs": []
    },
    {
      "cell_type": "code",
      "metadata": {
        "colab": {
          "base_uri": "https://localhost:8080/"
        },
        "id": "mzdzULBBTO8f",
        "outputId": "5af151d4-10e8-4321-c34c-38b96d901526"
      },
      "source": [
        "network.compile(optimizer=\"rmsprop\",loss=[\"mse\"],metrics=[\"mae\"])\n",
        "history = network.fit(X_train,Y_train,epochs=100,validation_split=0.3, batch_size = 16)\n"
      ],
      "execution_count": 32,
      "outputs": [
        {
          "output_type": "stream",
          "text": [
            "Epoch 1/100\n",
            "32/32 [==============================] - 1s 7ms/step - loss: 0.7998 - mae: 0.7121 - val_loss: 0.4673 - val_mae: 0.5679\n",
            "Epoch 2/100\n",
            "32/32 [==============================] - 0s 3ms/step - loss: 0.3989 - mae: 0.5034 - val_loss: 0.3192 - val_mae: 0.4648\n",
            "Epoch 3/100\n",
            "32/32 [==============================] - 0s 3ms/step - loss: 0.2578 - mae: 0.3991 - val_loss: 0.2693 - val_mae: 0.4077\n",
            "Epoch 4/100\n",
            "32/32 [==============================] - 0s 3ms/step - loss: 0.2093 - mae: 0.3468 - val_loss: 0.2414 - val_mae: 0.3829\n",
            "Epoch 5/100\n",
            "32/32 [==============================] - 0s 3ms/step - loss: 0.1616 - mae: 0.3177 - val_loss: 0.2662 - val_mae: 0.4040\n",
            "Epoch 6/100\n",
            "32/32 [==============================] - 0s 4ms/step - loss: 0.1572 - mae: 0.3086 - val_loss: 0.2348 - val_mae: 0.3702\n",
            "Epoch 7/100\n",
            "32/32 [==============================] - 0s 3ms/step - loss: 0.1402 - mae: 0.2964 - val_loss: 0.2361 - val_mae: 0.3583\n",
            "Epoch 8/100\n",
            "32/32 [==============================] - 0s 4ms/step - loss: 0.1102 - mae: 0.2565 - val_loss: 0.2220 - val_mae: 0.3712\n",
            "Epoch 9/100\n",
            "32/32 [==============================] - 0s 4ms/step - loss: 0.1125 - mae: 0.2600 - val_loss: 0.2100 - val_mae: 0.3526\n",
            "Epoch 10/100\n",
            "32/32 [==============================] - 0s 4ms/step - loss: 0.1155 - mae: 0.2632 - val_loss: 0.2045 - val_mae: 0.3538\n",
            "Epoch 11/100\n",
            "32/32 [==============================] - 0s 3ms/step - loss: 0.0912 - mae: 0.2366 - val_loss: 0.2176 - val_mae: 0.3717\n",
            "Epoch 12/100\n",
            "32/32 [==============================] - 0s 4ms/step - loss: 0.0879 - mae: 0.2339 - val_loss: 0.2153 - val_mae: 0.3472\n",
            "Epoch 13/100\n",
            "32/32 [==============================] - 0s 4ms/step - loss: 0.0956 - mae: 0.2410 - val_loss: 0.1950 - val_mae: 0.3262\n",
            "Epoch 14/100\n",
            "32/32 [==============================] - 0s 3ms/step - loss: 0.0767 - mae: 0.2198 - val_loss: 0.1833 - val_mae: 0.3194\n",
            "Epoch 15/100\n",
            "32/32 [==============================] - 0s 3ms/step - loss: 0.0833 - mae: 0.2245 - val_loss: 0.1812 - val_mae: 0.3328\n",
            "Epoch 16/100\n",
            "32/32 [==============================] - 0s 3ms/step - loss: 0.0765 - mae: 0.2070 - val_loss: 0.2179 - val_mae: 0.3450\n",
            "Epoch 17/100\n",
            "32/32 [==============================] - 0s 4ms/step - loss: 0.0711 - mae: 0.2036 - val_loss: 0.2233 - val_mae: 0.3506\n",
            "Epoch 18/100\n",
            "32/32 [==============================] - 0s 3ms/step - loss: 0.0631 - mae: 0.1980 - val_loss: 0.1952 - val_mae: 0.3326\n",
            "Epoch 19/100\n",
            "32/32 [==============================] - 0s 3ms/step - loss: 0.0649 - mae: 0.2010 - val_loss: 0.1571 - val_mae: 0.3026\n",
            "Epoch 20/100\n",
            "32/32 [==============================] - 0s 3ms/step - loss: 0.0588 - mae: 0.1877 - val_loss: 0.1620 - val_mae: 0.3062\n",
            "Epoch 21/100\n",
            "32/32 [==============================] - 0s 3ms/step - loss: 0.0550 - mae: 0.1807 - val_loss: 0.2039 - val_mae: 0.3563\n",
            "Epoch 22/100\n",
            "32/32 [==============================] - 0s 4ms/step - loss: 0.0748 - mae: 0.2120 - val_loss: 0.1722 - val_mae: 0.3176\n",
            "Epoch 23/100\n",
            "32/32 [==============================] - 0s 3ms/step - loss: 0.0567 - mae: 0.1800 - val_loss: 0.1500 - val_mae: 0.2887\n",
            "Epoch 24/100\n",
            "32/32 [==============================] - 0s 3ms/step - loss: 0.0521 - mae: 0.1739 - val_loss: 0.1594 - val_mae: 0.2920\n",
            "Epoch 25/100\n",
            "32/32 [==============================] - 0s 3ms/step - loss: 0.0572 - mae: 0.1781 - val_loss: 0.1521 - val_mae: 0.2954\n",
            "Epoch 26/100\n",
            "32/32 [==============================] - 0s 3ms/step - loss: 0.0582 - mae: 0.1812 - val_loss: 0.1503 - val_mae: 0.2914\n",
            "Epoch 27/100\n",
            "32/32 [==============================] - 0s 3ms/step - loss: 0.0535 - mae: 0.1825 - val_loss: 0.1688 - val_mae: 0.3061\n",
            "Epoch 28/100\n",
            "32/32 [==============================] - 0s 3ms/step - loss: 0.0575 - mae: 0.1842 - val_loss: 0.1409 - val_mae: 0.2871\n",
            "Epoch 29/100\n",
            "32/32 [==============================] - 0s 3ms/step - loss: 0.0617 - mae: 0.1852 - val_loss: 0.1496 - val_mae: 0.2926\n",
            "Epoch 30/100\n",
            "32/32 [==============================] - 0s 3ms/step - loss: 0.0594 - mae: 0.1788 - val_loss: 0.1422 - val_mae: 0.2837\n",
            "Epoch 31/100\n",
            "32/32 [==============================] - 0s 3ms/step - loss: 0.0422 - mae: 0.1599 - val_loss: 0.1440 - val_mae: 0.2853\n",
            "Epoch 32/100\n",
            "32/32 [==============================] - 0s 3ms/step - loss: 0.0427 - mae: 0.1595 - val_loss: 0.1527 - val_mae: 0.2971\n",
            "Epoch 33/100\n",
            "32/32 [==============================] - 0s 3ms/step - loss: 0.0480 - mae: 0.1637 - val_loss: 0.1585 - val_mae: 0.3011\n",
            "Epoch 34/100\n",
            "32/32 [==============================] - 0s 3ms/step - loss: 0.0440 - mae: 0.1621 - val_loss: 0.1496 - val_mae: 0.2883\n",
            "Epoch 35/100\n",
            "32/32 [==============================] - 0s 3ms/step - loss: 0.0492 - mae: 0.1691 - val_loss: 0.1464 - val_mae: 0.2806\n",
            "Epoch 36/100\n",
            "32/32 [==============================] - 0s 3ms/step - loss: 0.0369 - mae: 0.1454 - val_loss: 0.1511 - val_mae: 0.2889\n",
            "Epoch 37/100\n",
            "32/32 [==============================] - 0s 3ms/step - loss: 0.0394 - mae: 0.1470 - val_loss: 0.1430 - val_mae: 0.2772\n",
            "Epoch 38/100\n",
            "32/32 [==============================] - 0s 3ms/step - loss: 0.0388 - mae: 0.1482 - val_loss: 0.2077 - val_mae: 0.3538\n",
            "Epoch 39/100\n",
            "32/32 [==============================] - 0s 3ms/step - loss: 0.0503 - mae: 0.1688 - val_loss: 0.1393 - val_mae: 0.2778\n",
            "Epoch 40/100\n",
            "32/32 [==============================] - 0s 3ms/step - loss: 0.0426 - mae: 0.1551 - val_loss: 0.1431 - val_mae: 0.2694\n",
            "Epoch 41/100\n",
            "32/32 [==============================] - 0s 3ms/step - loss: 0.0402 - mae: 0.1519 - val_loss: 0.1489 - val_mae: 0.2791\n",
            "Epoch 42/100\n",
            "32/32 [==============================] - 0s 3ms/step - loss: 0.0440 - mae: 0.1565 - val_loss: 0.1433 - val_mae: 0.2730\n",
            "Epoch 43/100\n",
            "32/32 [==============================] - 0s 3ms/step - loss: 0.0405 - mae: 0.1446 - val_loss: 0.1535 - val_mae: 0.2890\n",
            "Epoch 44/100\n",
            "32/32 [==============================] - 0s 3ms/step - loss: 0.0523 - mae: 0.1640 - val_loss: 0.1456 - val_mae: 0.2851\n",
            "Epoch 45/100\n",
            "32/32 [==============================] - 0s 3ms/step - loss: 0.0357 - mae: 0.1419 - val_loss: 0.1372 - val_mae: 0.2658\n",
            "Epoch 46/100\n",
            "32/32 [==============================] - 0s 3ms/step - loss: 0.0340 - mae: 0.1399 - val_loss: 0.1860 - val_mae: 0.3111\n",
            "Epoch 47/100\n",
            "32/32 [==============================] - 0s 3ms/step - loss: 0.0481 - mae: 0.1524 - val_loss: 0.1552 - val_mae: 0.2909\n",
            "Epoch 48/100\n",
            "32/32 [==============================] - 0s 3ms/step - loss: 0.0379 - mae: 0.1471 - val_loss: 0.1367 - val_mae: 0.2700\n",
            "Epoch 49/100\n",
            "32/32 [==============================] - 0s 3ms/step - loss: 0.0424 - mae: 0.1448 - val_loss: 0.1515 - val_mae: 0.2971\n",
            "Epoch 50/100\n",
            "32/32 [==============================] - 0s 3ms/step - loss: 0.0384 - mae: 0.1424 - val_loss: 0.1431 - val_mae: 0.2789\n",
            "Epoch 51/100\n",
            "32/32 [==============================] - 0s 3ms/step - loss: 0.0325 - mae: 0.1316 - val_loss: 0.1427 - val_mae: 0.2739\n",
            "Epoch 52/100\n",
            "32/32 [==============================] - 0s 3ms/step - loss: 0.0400 - mae: 0.1463 - val_loss: 0.1550 - val_mae: 0.2827\n",
            "Epoch 53/100\n",
            "32/32 [==============================] - 0s 3ms/step - loss: 0.0325 - mae: 0.1349 - val_loss: 0.1626 - val_mae: 0.2973\n",
            "Epoch 54/100\n",
            "32/32 [==============================] - 0s 4ms/step - loss: 0.0444 - mae: 0.1531 - val_loss: 0.1319 - val_mae: 0.2580\n",
            "Epoch 55/100\n",
            "32/32 [==============================] - 0s 4ms/step - loss: 0.0352 - mae: 0.1326 - val_loss: 0.1418 - val_mae: 0.2739\n",
            "Epoch 56/100\n",
            "32/32 [==============================] - 0s 3ms/step - loss: 0.0330 - mae: 0.1317 - val_loss: 0.1413 - val_mae: 0.2771\n",
            "Epoch 57/100\n",
            "32/32 [==============================] - 0s 3ms/step - loss: 0.0336 - mae: 0.1401 - val_loss: 0.1351 - val_mae: 0.2655\n",
            "Epoch 58/100\n",
            "32/32 [==============================] - 0s 3ms/step - loss: 0.0448 - mae: 0.1543 - val_loss: 0.1366 - val_mae: 0.2725\n",
            "Epoch 59/100\n",
            "32/32 [==============================] - 0s 3ms/step - loss: 0.0395 - mae: 0.1349 - val_loss: 0.1420 - val_mae: 0.2764\n",
            "Epoch 60/100\n",
            "32/32 [==============================] - 0s 3ms/step - loss: 0.0310 - mae: 0.1300 - val_loss: 0.1370 - val_mae: 0.2706\n",
            "Epoch 61/100\n",
            "32/32 [==============================] - 0s 3ms/step - loss: 0.0371 - mae: 0.1372 - val_loss: 0.1383 - val_mae: 0.2691\n",
            "Epoch 62/100\n",
            "32/32 [==============================] - 0s 3ms/step - loss: 0.0354 - mae: 0.1418 - val_loss: 0.1407 - val_mae: 0.2677\n",
            "Epoch 63/100\n",
            "32/32 [==============================] - 0s 3ms/step - loss: 0.0343 - mae: 0.1319 - val_loss: 0.1458 - val_mae: 0.2718\n",
            "Epoch 64/100\n",
            "32/32 [==============================] - 0s 3ms/step - loss: 0.0306 - mae: 0.1261 - val_loss: 0.1464 - val_mae: 0.2861\n",
            "Epoch 65/100\n",
            "32/32 [==============================] - 0s 3ms/step - loss: 0.0330 - mae: 0.1321 - val_loss: 0.1336 - val_mae: 0.2743\n",
            "Epoch 66/100\n",
            "32/32 [==============================] - 0s 4ms/step - loss: 0.0300 - mae: 0.1254 - val_loss: 0.1741 - val_mae: 0.3008\n",
            "Epoch 67/100\n",
            "32/32 [==============================] - 0s 3ms/step - loss: 0.0341 - mae: 0.1350 - val_loss: 0.1449 - val_mae: 0.2836\n",
            "Epoch 68/100\n",
            "32/32 [==============================] - 0s 3ms/step - loss: 0.0314 - mae: 0.1316 - val_loss: 0.1363 - val_mae: 0.2658\n",
            "Epoch 69/100\n",
            "32/32 [==============================] - 0s 3ms/step - loss: 0.0240 - mae: 0.1117 - val_loss: 0.1314 - val_mae: 0.2631\n",
            "Epoch 70/100\n",
            "32/32 [==============================] - 0s 3ms/step - loss: 0.0284 - mae: 0.1233 - val_loss: 0.1470 - val_mae: 0.2775\n",
            "Epoch 71/100\n",
            "32/32 [==============================] - 0s 3ms/step - loss: 0.0290 - mae: 0.1233 - val_loss: 0.1486 - val_mae: 0.2785\n",
            "Epoch 72/100\n",
            "32/32 [==============================] - 0s 3ms/step - loss: 0.0257 - mae: 0.1192 - val_loss: 0.1462 - val_mae: 0.2698\n",
            "Epoch 73/100\n",
            "32/32 [==============================] - 0s 4ms/step - loss: 0.0348 - mae: 0.1271 - val_loss: 0.1383 - val_mae: 0.2673\n",
            "Epoch 74/100\n",
            "32/32 [==============================] - 0s 3ms/step - loss: 0.0247 - mae: 0.1134 - val_loss: 0.1346 - val_mae: 0.2558\n",
            "Epoch 75/100\n",
            "32/32 [==============================] - 0s 3ms/step - loss: 0.0304 - mae: 0.1242 - val_loss: 0.1689 - val_mae: 0.3060\n",
            "Epoch 76/100\n",
            "32/32 [==============================] - 0s 4ms/step - loss: 0.0341 - mae: 0.1297 - val_loss: 0.1508 - val_mae: 0.2803\n",
            "Epoch 77/100\n",
            "32/32 [==============================] - 0s 4ms/step - loss: 0.0276 - mae: 0.1239 - val_loss: 0.1314 - val_mae: 0.2532\n",
            "Epoch 78/100\n",
            "32/32 [==============================] - 0s 3ms/step - loss: 0.0331 - mae: 0.1285 - val_loss: 0.1341 - val_mae: 0.2590\n",
            "Epoch 79/100\n",
            "32/32 [==============================] - 0s 3ms/step - loss: 0.0293 - mae: 0.1261 - val_loss: 0.1407 - val_mae: 0.2691\n",
            "Epoch 80/100\n",
            "32/32 [==============================] - 0s 3ms/step - loss: 0.0302 - mae: 0.1249 - val_loss: 0.1447 - val_mae: 0.2658\n",
            "Epoch 81/100\n",
            "32/32 [==============================] - 0s 3ms/step - loss: 0.0295 - mae: 0.1218 - val_loss: 0.1362 - val_mae: 0.2583\n",
            "Epoch 82/100\n",
            "32/32 [==============================] - 0s 3ms/step - loss: 0.0271 - mae: 0.1175 - val_loss: 0.1372 - val_mae: 0.2657\n",
            "Epoch 83/100\n",
            "32/32 [==============================] - 0s 4ms/step - loss: 0.0295 - mae: 0.1207 - val_loss: 0.1504 - val_mae: 0.2810\n",
            "Epoch 84/100\n",
            "32/32 [==============================] - 0s 4ms/step - loss: 0.0298 - mae: 0.1259 - val_loss: 0.1565 - val_mae: 0.2789\n",
            "Epoch 85/100\n",
            "32/32 [==============================] - 0s 4ms/step - loss: 0.0272 - mae: 0.1134 - val_loss: 0.1581 - val_mae: 0.2879\n",
            "Epoch 86/100\n",
            "32/32 [==============================] - 0s 4ms/step - loss: 0.0307 - mae: 0.1196 - val_loss: 0.1623 - val_mae: 0.2936\n",
            "Epoch 87/100\n",
            "32/32 [==============================] - 0s 3ms/step - loss: 0.0282 - mae: 0.1201 - val_loss: 0.1642 - val_mae: 0.2902\n",
            "Epoch 88/100\n",
            "32/32 [==============================] - 0s 3ms/step - loss: 0.0361 - mae: 0.1405 - val_loss: 0.1327 - val_mae: 0.2555\n",
            "Epoch 89/100\n",
            "32/32 [==============================] - 0s 3ms/step - loss: 0.0262 - mae: 0.1172 - val_loss: 0.1334 - val_mae: 0.2523\n",
            "Epoch 90/100\n",
            "32/32 [==============================] - 0s 3ms/step - loss: 0.0276 - mae: 0.1214 - val_loss: 0.1418 - val_mae: 0.2677\n",
            "Epoch 91/100\n",
            "32/32 [==============================] - 0s 3ms/step - loss: 0.0252 - mae: 0.1149 - val_loss: 0.1519 - val_mae: 0.2846\n",
            "Epoch 92/100\n",
            "32/32 [==============================] - 0s 3ms/step - loss: 0.0258 - mae: 0.1109 - val_loss: 0.1394 - val_mae: 0.2635\n",
            "Epoch 93/100\n",
            "32/32 [==============================] - 0s 3ms/step - loss: 0.0293 - mae: 0.1191 - val_loss: 0.1744 - val_mae: 0.3027\n",
            "Epoch 94/100\n",
            "32/32 [==============================] - 0s 3ms/step - loss: 0.0272 - mae: 0.1183 - val_loss: 0.1403 - val_mae: 0.2687\n",
            "Epoch 95/100\n",
            "32/32 [==============================] - 0s 3ms/step - loss: 0.0261 - mae: 0.1145 - val_loss: 0.1403 - val_mae: 0.2647\n",
            "Epoch 96/100\n",
            "32/32 [==============================] - 0s 3ms/step - loss: 0.0246 - mae: 0.1113 - val_loss: 0.1520 - val_mae: 0.2776\n",
            "Epoch 97/100\n",
            "32/32 [==============================] - 0s 3ms/step - loss: 0.0286 - mae: 0.1180 - val_loss: 0.1355 - val_mae: 0.2647\n",
            "Epoch 98/100\n",
            "32/32 [==============================] - 0s 3ms/step - loss: 0.0250 - mae: 0.1112 - val_loss: 0.1351 - val_mae: 0.2619\n",
            "Epoch 99/100\n",
            "32/32 [==============================] - 0s 3ms/step - loss: 0.0211 - mae: 0.1068 - val_loss: 0.1488 - val_mae: 0.2739\n",
            "Epoch 100/100\n",
            "32/32 [==============================] - 0s 3ms/step - loss: 0.0307 - mae: 0.1115 - val_loss: 0.1419 - val_mae: 0.2694\n"
          ],
          "name": "stdout"
        }
      ]
    },
    {
      "cell_type": "code",
      "metadata": {
        "colab": {
          "base_uri": "https://localhost:8080/"
        },
        "id": "LX2Ghh_HTO8f",
        "outputId": "ae3320ef-cae5-4590-ffb9-4d01a70584d7"
      },
      "source": [
        "history.history.keys()\n",
        "loss,mae=network.evaluate(X_test,Y_test)\n",
        "val_mae = history.history['val_mae']\n",
        "val_loss = history.history['val_loss']"
      ],
      "execution_count": 33,
      "outputs": [
        {
          "output_type": "stream",
          "text": [
            "10/10 [==============================] - 0s 2ms/step - loss: 0.1225 - mae: 0.2293\n"
          ],
          "name": "stdout"
        }
      ]
    },
    {
      "cell_type": "code",
      "metadata": {
        "colab": {
          "base_uri": "https://localhost:8080/",
          "height": 295
        },
        "id": "2SNVjJI2TO8g",
        "outputId": "00958ae1-8197-4628-d1ea-4131db19daec"
      },
      "source": [
        "history_dict = history.history\n",
        "loss_values = history_dict['loss']\n",
        "val_loss_values = history_dict['val_loss']\n",
        "epochs = range(100)\n",
        "plt.plot(epochs, loss_values, 'bo', label='Training loss')\n",
        "plt.plot(epochs, val_loss_values, 'b', label='Validation loss')\n",
        "plt.title('Training and validation loss')\n",
        "plt.xlabel('Epochs')\n",
        "plt.ylabel('Loss')\n",
        "plt.legend()\n",
        "plt.show()"
      ],
      "execution_count": 34,
      "outputs": [
        {
          "output_type": "display_data",
          "data": {
            "image/png": "[encoded data removed]",
            "text/plain": [
              "<Figure size 432x288 with 1 Axes>"
            ]
          },
          "metadata": {
            "tags": [],
            "needs_background": "light"
          }
        }
      ]
    },
    {
      "cell_type": "code",
      "metadata": {
        "colab": {
          "base_uri": "https://localhost:8080/",
          "height": 295
        },
        "id": "AZcddG-bTO8g",
        "outputId": "ffd6340c-a338-454f-9f8c-b795e72e21c0"
      },
      "source": [
        "acc_values = history_dict['mae']\n",
        "val_acc_values = history_dict['val_mae']\n",
        "plt.plot(epochs, acc_values, 'bo', label='Training mae')\n",
        "plt.plot(epochs, val_acc_values, 'b', label='Validation mae')\n",
        "plt.title('Training and validation accuracy')\n",
        "plt.xlabel('Epochs')\n",
        "plt.ylabel('mae')\n",
        "plt.legend()\n",
        "plt.show()"
      ],
      "execution_count": 35,
      "outputs": [
        {
          "output_type": "display_data",
          "data": {
            "image/png": "[encoded data removed]",
            "text/plain": [
              "<Figure size 432x288 with 1 Axes>"
            ]
          },
          "metadata": {
            "tags": [],
            "needs_background": "light"
          }
        }
      ]
    }
  ]
}